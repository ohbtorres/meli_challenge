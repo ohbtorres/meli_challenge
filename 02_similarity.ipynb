{
 "cells": [
  {
   "cell_type": "markdown",
   "id": "2470bbe6-0666-485f-81f9-6b5688e8c0cf",
   "metadata": {},
   "source": [
    "# 2 - Products similarities\n",
    "No pre-trained models allowed"
   ]
  },
  {
   "cell_type": "code",
   "execution_count": 1,
   "id": "3c046829-f680-46d8-84e5-dc973da87f44",
   "metadata": {},
   "outputs": [],
   "source": [
    "%reload_ext watermark"
   ]
  },
  {
   "cell_type": "code",
   "execution_count": 2,
   "id": "5bddcee0-a2d9-4419-adaf-668395987c25",
   "metadata": {},
   "outputs": [
    {
     "name": "stdout",
     "output_type": "stream",
     "text": [
      "scipy      : 1.15.3\n",
      "numpy      : 2.2.6\n",
      "pandas     : 2.2.3\n",
      "rouge_score: 0.1.2\n",
      "matplotlib : 3.10.3\n",
      "unidecode  : 1.4.0\n",
      "re         : 2.2.1\n",
      "\n"
     ]
    }
   ],
   "source": [
    "import re\n",
    "import time\n",
    "import numpy as np\n",
    "import pandas as pd\n",
    "from itertools import product\n",
    "from unidecode import unidecode\n",
    "import matplotlib.pyplot as plt\n",
    "from scipy.optimize import curve_fit\n",
    "from rouge_score.rouge_scorer import RougeScorer\n",
    "\n",
    "%watermark --iversions"
   ]
  },
  {
   "cell_type": "code",
   "execution_count": 3,
   "id": "51adb8a4-6f74-4f89-b655-72da07ae0635",
   "metadata": {},
   "outputs": [
    {
     "data": {
      "text/html": [
       "<div>\n",
       "<style scoped>\n",
       "    .dataframe tbody tr th:only-of-type {\n",
       "        vertical-align: middle;\n",
       "    }\n",
       "\n",
       "    .dataframe tbody tr th {\n",
       "        vertical-align: top;\n",
       "    }\n",
       "\n",
       "    .dataframe thead th {\n",
       "        text-align: right;\n",
       "    }\n",
       "</style>\n",
       "<table border=\"1\" class=\"dataframe\">\n",
       "  <thead>\n",
       "    <tr style=\"text-align: right;\">\n",
       "      <th></th>\n",
       "      <th>ITE_ITEM_TITLE</th>\n",
       "    </tr>\n",
       "  </thead>\n",
       "  <tbody>\n",
       "    <tr>\n",
       "      <th>0</th>\n",
       "      <td>Tênis Ascension Posh Masculino - Preto E Verme...</td>\n",
       "    </tr>\n",
       "    <tr>\n",
       "      <th>1</th>\n",
       "      <td>Tenis Para Caminhada Super Levinho Spider Corr...</td>\n",
       "    </tr>\n",
       "    <tr>\n",
       "      <th>2</th>\n",
       "      <td>Tênis Feminino Le Parc Hocks Black/ice Origina...</td>\n",
       "    </tr>\n",
       "    <tr>\n",
       "      <th>3</th>\n",
       "      <td>Tênis Olympikus Esportivo Academia Nova Tendên...</td>\n",
       "    </tr>\n",
       "    <tr>\n",
       "      <th>4</th>\n",
       "      <td>Inteligente Led Bicicleta Tauda Luz Usb Bicicl...</td>\n",
       "    </tr>\n",
       "    <tr>\n",
       "      <th>...</th>\n",
       "      <td>...</td>\n",
       "    </tr>\n",
       "    <tr>\n",
       "      <th>29995</th>\n",
       "      <td>Tênis Vans Old Skool I Love My Vans - Usado - ...</td>\n",
       "    </tr>\n",
       "    <tr>\n",
       "      <th>29996</th>\n",
       "      <td>Tênis Feminino Preto Moleca 5296155</td>\n",
       "    </tr>\n",
       "    <tr>\n",
       "      <th>29997</th>\n",
       "      <td>Tenis Botinha Com Pelo Via Marte Original Lanç...</td>\n",
       "    </tr>\n",
       "    <tr>\n",
       "      <th>29998</th>\n",
       "      <td>Tênis Slip On Feminino Masculino Original Sapa...</td>\n",
       "    </tr>\n",
       "    <tr>\n",
       "      <th>29999</th>\n",
       "      <td>Bicicleta Nathor Rosa Infantil Sem Pedal Balan...</td>\n",
       "    </tr>\n",
       "  </tbody>\n",
       "</table>\n",
       "<p>30000 rows × 1 columns</p>\n",
       "</div>"
      ],
      "text/plain": [
       "                                          ITE_ITEM_TITLE\n",
       "0      Tênis Ascension Posh Masculino - Preto E Verme...\n",
       "1      Tenis Para Caminhada Super Levinho Spider Corr...\n",
       "2      Tênis Feminino Le Parc Hocks Black/ice Origina...\n",
       "3      Tênis Olympikus Esportivo Academia Nova Tendên...\n",
       "4      Inteligente Led Bicicleta Tauda Luz Usb Bicicl...\n",
       "...                                                  ...\n",
       "29995  Tênis Vans Old Skool I Love My Vans - Usado - ...\n",
       "29996                Tênis Feminino Preto Moleca 5296155\n",
       "29997  Tenis Botinha Com Pelo Via Marte Original Lanç...\n",
       "29998  Tênis Slip On Feminino Masculino Original Sapa...\n",
       "29999  Bicicleta Nathor Rosa Infantil Sem Pedal Balan...\n",
       "\n",
       "[30000 rows x 1 columns]"
      ]
     },
     "execution_count": 3,
     "metadata": {},
     "output_type": "execute_result"
    }
   ],
   "source": [
    "items = pd.read_csv(\"items_titles.csv\")\n",
    "items_test = pd.read_csv(\"items_titles_test.csv\")\n",
    "items"
   ]
  },
  {
   "cell_type": "code",
   "execution_count": 4,
   "id": "536c4cde-6c62-413e-a5cc-2d8356c285c7",
   "metadata": {},
   "outputs": [
    {
     "data": {
      "text/html": [
       "<div>\n",
       "<style scoped>\n",
       "    .dataframe tbody tr th:only-of-type {\n",
       "        vertical-align: middle;\n",
       "    }\n",
       "\n",
       "    .dataframe tbody tr th {\n",
       "        vertical-align: top;\n",
       "    }\n",
       "\n",
       "    .dataframe thead th {\n",
       "        text-align: right;\n",
       "    }\n",
       "</style>\n",
       "<table border=\"1\" class=\"dataframe\">\n",
       "  <thead>\n",
       "    <tr style=\"text-align: right;\">\n",
       "      <th></th>\n",
       "      <th>ITE_ITEM_TITLE</th>\n",
       "    </tr>\n",
       "  </thead>\n",
       "  <tbody>\n",
       "    <tr>\n",
       "      <th>0</th>\n",
       "      <td>Tênis Olympikus Esporte Valente - Masculino Kids</td>\n",
       "    </tr>\n",
       "    <tr>\n",
       "      <th>1</th>\n",
       "      <td>Bicicleta Barra Forte Samy C/ 6 Marchas Cubo C...</td>\n",
       "    </tr>\n",
       "    <tr>\n",
       "      <th>2</th>\n",
       "      <td>Tênis Usthemp Slip-on Temático - Labrador 2</td>\n",
       "    </tr>\n",
       "    <tr>\n",
       "      <th>3</th>\n",
       "      <td>Tênis Casual Feminino Moleca Tecido Tie Dye</td>\n",
       "    </tr>\n",
       "    <tr>\n",
       "      <th>4</th>\n",
       "      <td>Tênis Star Baby Sapatinho Conforto + Brinde</td>\n",
       "    </tr>\n",
       "    <tr>\n",
       "      <th>...</th>\n",
       "      <td>...</td>\n",
       "    </tr>\n",
       "    <tr>\n",
       "      <th>9995</th>\n",
       "      <td>Chuteira Futsal Oxn Velox 3 Infantil</td>\n",
       "    </tr>\n",
       "    <tr>\n",
       "      <th>9996</th>\n",
       "      <td>Sapatenis Casual Masculino Estiloso 24horas Co...</td>\n",
       "    </tr>\n",
       "    <tr>\n",
       "      <th>9997</th>\n",
       "      <td>Tênis Feminino Infantil Molekinha Tie Dye</td>\n",
       "    </tr>\n",
       "    <tr>\n",
       "      <th>9998</th>\n",
       "      <td>Tênis Feminino Leve Barato Ganhe 1 Colchonete ...</td>\n",
       "    </tr>\n",
       "    <tr>\n",
       "      <th>9999</th>\n",
       "      <td>Tênis Polo Ralph Lauren Modelo Cantor Low Bran...</td>\n",
       "    </tr>\n",
       "  </tbody>\n",
       "</table>\n",
       "<p>10000 rows × 1 columns</p>\n",
       "</div>"
      ],
      "text/plain": [
       "                                         ITE_ITEM_TITLE\n",
       "0      Tênis Olympikus Esporte Valente - Masculino Kids\n",
       "1     Bicicleta Barra Forte Samy C/ 6 Marchas Cubo C...\n",
       "2          Tênis Usthemp Slip-on Temático - Labrador 2\n",
       "3           Tênis Casual Feminino Moleca Tecido Tie Dye\n",
       "4           Tênis Star Baby Sapatinho Conforto + Brinde\n",
       "...                                                 ...\n",
       "9995               Chuteira Futsal Oxn Velox 3 Infantil\n",
       "9996  Sapatenis Casual Masculino Estiloso 24horas Co...\n",
       "9997          Tênis Feminino Infantil Molekinha Tie Dye\n",
       "9998  Tênis Feminino Leve Barato Ganhe 1 Colchonete ...\n",
       "9999  Tênis Polo Ralph Lauren Modelo Cantor Low Bran...\n",
       "\n",
       "[10000 rows x 1 columns]"
      ]
     },
     "execution_count": 4,
     "metadata": {},
     "output_type": "execute_result"
    }
   ],
   "source": [
    "items_test"
   ]
  },
  {
   "cell_type": "code",
   "execution_count": 5,
   "id": "5d6248f9-8180-4ebf-8db3-784dae496db5",
   "metadata": {},
   "outputs": [],
   "source": [
    "items.columns = [c.lower() for c in items.columns]\n",
    "items_test.columns = [c.lower() for c in items.columns]"
   ]
  },
  {
   "cell_type": "markdown",
   "id": "e5dffa64-4675-41aa-97be-2545d7d36053",
   "metadata": {},
   "source": [
    "# EDA"
   ]
  },
  {
   "cell_type": "code",
   "execution_count": 6,
   "id": "8415c53f-7095-4022-ad4f-eb935ea3cdab",
   "metadata": {},
   "outputs": [
    {
     "data": {
      "text/plain": [
       "np.int64(0)"
      ]
     },
     "execution_count": 6,
     "metadata": {},
     "output_type": "execute_result"
    }
   ],
   "source": [
    "# Let's evaluate if there is any NULL values\n",
    "items.ite_item_title.isna().sum()"
   ]
  },
  {
   "cell_type": "code",
   "execution_count": 7,
   "id": "82185d58-bf22-4eaf-b691-575844b296a8",
   "metadata": {},
   "outputs": [
    {
     "data": {
      "text/plain": [
       "ite_item_title\n",
       "tênis        15895\n",
       "tenis         4634\n",
       "bicicleta     2100\n",
       "sapatênis     1066\n",
       "kit            771\n",
       "sapatilha      750\n",
       "sapatenis      581\n",
       "tv             359\n",
       "sapato         259\n",
       "bike           229\n",
       "Name: count, dtype: int64"
      ]
     },
     "execution_count": 7,
     "metadata": {},
     "output_type": "execute_result"
    }
   ],
   "source": [
    "# Let's see the first word of each product\n",
    "# Some words have accent\n",
    "items.ite_item_title.str.lower().str.split(\" \").apply(lambda x: x[0]).value_counts().head(10)"
   ]
  },
  {
   "cell_type": "code",
   "execution_count": 8,
   "id": "7301caba-37e6-4447-9933-68f9fbec4439",
   "metadata": {},
   "outputs": [
    {
     "data": {
      "text/plain": [
       "ite_item_title\n",
       "tenis        20566\n",
       "bicicleta     2100\n",
       "sapatenis     1648\n",
       "kit            771\n",
       "sapatilha      750\n",
       "tv             359\n",
       "sapato         259\n",
       "bike           229\n",
       "               178\n",
       "smart          173\n",
       "Name: count, dtype: int64"
      ]
     },
     "execution_count": 8,
     "metadata": {},
     "output_type": "execute_result"
    }
   ],
   "source": [
    "# There are some items starting with ''?\n",
    "items.ite_item_title.str.lower().apply(unidecode).str.split(\" \").apply(lambda x: x[0]).value_counts().head(10)"
   ]
  },
  {
   "cell_type": "code",
   "execution_count": 9,
   "id": "16b85c6e-e6a8-4b5d-b986-8967fee4bdbf",
   "metadata": {},
   "outputs": [
    {
     "data": {
      "text/plain": [
       "269      [, tenis, polo, plus, masculino, varias, cores...\n",
       "271      [, tenis, bull, terrier, bruce, low, -, , boto...\n",
       "362      [, tenis, feminino, casual, tie, dye, acompanh...\n",
       "392      [, bicicleta, aro29, avance, inception, 21v, s...\n",
       "422      [, slip, casual, infantil, menino, azul, pimpo...\n",
       "                               ...                        \n",
       "29503    [, tenis, olympikus, proof, feminino, original...\n",
       "29687    [, sapatenis, casual, qualidade, em, 1, lugar,...\n",
       "29752    [, tenis, unissex, casual, cadarco, chuck, tay...\n",
       "29904    [, tenis, floral, infantil, estampado, molekin...\n",
       "29934    [, tenis, olympikus, drift, 2, , masculino, -,...\n",
       "Name: ite_item_title, Length: 178, dtype: object"
      ]
     },
     "execution_count": 9,
     "metadata": {},
     "output_type": "execute_result"
    }
   ],
   "source": [
    "items.ite_item_title.str.lower().apply(unidecode).str.split(\" \").pipe(lambda x: x[x.apply(lambda y: y[0]) == ''])"
   ]
  },
  {
   "cell_type": "code",
   "execution_count": 10,
   "id": "1034e7da-ee54-4a1d-9325-0d2f698c399e",
   "metadata": {},
   "outputs": [
    {
     "data": {
      "text/plain": [
       "new_value\n",
       "tenis        20667\n",
       "bicicleta     2106\n",
       "sapatenis     1669\n",
       "kit            779\n",
       "sapatilha      750\n",
       "tv             362\n",
       "sapato         261\n",
       "bike           230\n",
       "smart          174\n",
       "sapatos        156\n",
       "slip           148\n",
       "nike           134\n",
       "bota           120\n",
       "combo           88\n",
       "air             54\n",
       "botinha         53\n",
       "promocao        51\n",
       "mountain        47\n",
       "calcado         44\n",
       "caloi           42\n",
       "Name: count, dtype: int64"
      ]
     },
     "execution_count": 10,
     "metadata": {},
     "output_type": "execute_result"
    }
   ],
   "source": [
    "# Let's strip values\n",
    "items.assign(new_value=lambda x: x.ite_item_title.str.lower().apply(unidecode).str.strip())\\\n",
    "    .new_value.str.split(\" \").apply(lambda x: x[0]).value_counts().head(20)"
   ]
  },
  {
   "cell_type": "code",
   "execution_count": 11,
   "id": "99ad2148-60a9-410c-a6e1-c16f9f8328e1",
   "metadata": {},
   "outputs": [
    {
     "data": {
      "text/plain": [
       "new_value\n",
       "tenis        20667\n",
       "bicicleta     2106\n",
       "sapatenis     1669\n",
       "kit            779\n",
       "sapatilha      750\n",
       "             ...  \n",
       "sapateni         1\n",
       "exclusiva        1\n",
       "beach            1\n",
       "imigrante        1\n",
       "(novo)           1\n",
       "Name: count, Length: 776, dtype: int64"
      ]
     },
     "execution_count": 11,
     "metadata": {},
     "output_type": "execute_result"
    }
   ],
   "source": [
    "# Different start words\n",
    "items.assign(new_value=lambda x: x.ite_item_title.str.lower().apply(unidecode).str.strip())\\\n",
    "    .new_value.str.split(\" \").apply(lambda x: x[0]).value_counts()"
   ]
  },
  {
   "cell_type": "code",
   "execution_count": 12,
   "id": "fb13c2fe-1e50-4e15-b41a-d86ff078ee67",
   "metadata": {},
   "outputs": [
    {
     "data": {
      "text/plain": [
       "19229"
      ]
     },
     "execution_count": 12,
     "metadata": {},
     "output_type": "execute_result"
    }
   ],
   "source": [
    "# How many different words does this dataset have?\n",
    "items_ = items.assign(new_value=lambda x: x.ite_item_title.str.lower().apply(unidecode).str.strip())\n",
    "items_.new_value.str.split(\" \").explode().nunique()"
   ]
  },
  {
   "cell_type": "code",
   "execution_count": 13,
   "id": "e5f1f188-ea5b-47d2-8617-f4cc57109239",
   "metadata": {},
   "outputs": [
    {
     "data": {
      "text/plain": [
       "0               tenis\n",
       "0           ascension\n",
       "0                posh\n",
       "0           masculino\n",
       "0                   -\n",
       "             ...     \n",
       "29984         solarhu\n",
       "29984    (ultraboost)\n",
       "29985          hajime\n",
       "29992         javelin\n",
       "29993           g0984\n",
       "Name: new_value, Length: 19229, dtype: object"
      ]
     },
     "execution_count": 13,
     "metadata": {},
     "output_type": "execute_result"
    }
   ],
   "source": [
    "items_.new_value.str.split(\" \").explode().drop_duplicates()"
   ]
  },
  {
   "cell_type": "code",
   "execution_count": 14,
   "id": "bad6f34d-0d54-4bfd-9c10-696d01f7140e",
   "metadata": {},
   "outputs": [
    {
     "data": {
      "text/plain": [
       "5882       ultraboost\n",
       "29984    (ultraboost)\n",
       "Name: new_value, dtype: object"
      ]
     },
     "execution_count": 14,
     "metadata": {},
     "output_type": "execute_result"
    }
   ],
   "source": [
    "items_.new_value.str.split(\" \").explode()\\\n",
    "    .drop_duplicates().pipe(lambda x: x[x.apply(lambda y: \"ultraboost\" in y)])"
   ]
  },
  {
   "cell_type": "code",
   "execution_count": 15,
   "id": "5fd8318e-33d0-4a93-aedb-fbaa7a090a13",
   "metadata": {},
   "outputs": [
    {
     "data": {
      "text/plain": [
       "5882    ultraboost\n",
       "Name: new_value, dtype: object"
      ]
     },
     "execution_count": 15,
     "metadata": {},
     "output_type": "execute_result"
    }
   ],
   "source": [
    "# Let's remove non alpha numeric characters\n",
    "items_.new_value.str.split(\" \").explode()\\\n",
    "    .str.replace(r'[^a-zA-Z0-9 ]', '', regex=True)\\\n",
    "    .drop_duplicates().pipe(lambda x: x[x.apply(lambda y: \"ultraboost\" in y)])"
   ]
  },
  {
   "cell_type": "code",
   "execution_count": 16,
   "id": "81692a90-edff-497d-a0ef-46b6f6499cce",
   "metadata": {},
   "outputs": [],
   "source": [
    "items_ = items.assign(new_value=lambda x:\n",
    "                      x.ite_item_title\n",
    "                      .str.lower()\n",
    "                      .apply(unidecode)\n",
    "                      .str.strip()\n",
    "                      .str.replace(r'[^a-zA-Z0-9 ]', '', regex=True))"
   ]
  },
  {
   "cell_type": "code",
   "execution_count": 17,
   "id": "f620ebf8-590e-479a-aa32-263807acabb2",
   "metadata": {},
   "outputs": [],
   "source": [
    "# Not using default stopwords list (like nltk), because some stopwords may change\n",
    "# the meaning of the title. Like the word 'sem' or 'com'\n",
    "my_stopwords = [\"e\", \"a\", \"o\", \"as\", \"os\", \"para\"]"
   ]
  },
  {
   "cell_type": "code",
   "execution_count": 18,
   "id": "4312e718-47b9-4c08-b6ab-99b2ec4297c2",
   "metadata": {},
   "outputs": [],
   "source": [
    "# Removing stopwords\n",
    "def remove_stopwords(text: str, stopwords: list):\n",
    "    tokens = re.findall(r'\\b\\w+\\b', text)\n",
    "    return \" \".join([t for t in tokens if t not in stopwords])\n",
    "\n",
    "items_ = items.assign(new_value=lambda x:\n",
    "                      x.ite_item_title\n",
    "                      .str.lower()\n",
    "                      .apply(unidecode)\n",
    "                      .str.strip()\n",
    "                      .str.replace(r'[^a-zA-Z0-9 ]', '', regex=True)\n",
    "                      .apply(remove_stopwords,\n",
    "                             stopwords=my_stopwords))"
   ]
  },
  {
   "cell_type": "code",
   "execution_count": 19,
   "id": "8d41f844-c25e-43d3-9552-21adf8e69341",
   "metadata": {},
   "outputs": [],
   "source": [
    "def rouge_metric(row: pd.Series):\n",
    "    if row.text1 == row.text2:\n",
    "        return 1.0\n",
    "    else:\n",
    "        return RougeScorer([\"rouge1\"]).score(target=row.text1, prediction=row.text2)[\"rouge1\"].precision"
   ]
  },
  {
   "cell_type": "markdown",
   "id": "da2b2252-590f-4fcc-812d-9d6d89479af0",
   "metadata": {},
   "source": [
    "# List similarity method"
   ]
  },
  {
   "cell_type": "code",
   "execution_count": 20,
   "id": "eac4bf53-a05c-4bf3-afe0-5ce479429f4d",
   "metadata": {},
   "outputs": [],
   "source": [
    "def similarity_list(df: pd.DataFrame,\n",
    "                    stopwords: list,\n",
    "                    column: str = \"ite_item_title\"):\n",
    "    df_ = df.assign(new_value=lambda x:\n",
    "              x[column]\n",
    "              .str.lower()\n",
    "              .apply(unidecode)\n",
    "              .str.strip()\n",
    "              .str.replace(r'[^a-zA-Z0-9 ]', '', regex=True)\n",
    "              .apply(remove_stopwords,\n",
    "                     stopwords=stopwords))\n",
    "    map_ = df_.drop_duplicates().set_index(\"new_value\")[column].to_dict()\n",
    "    return pd.DataFrame.from_records(product(df_.new_value, df_.new_value),\n",
    "                          columns=[\"text1\", \"text2\"])\\\n",
    "        .assign(score=lambda x:\n",
    "                x.apply(rouge_metric, axis=1))\\\n",
    "        .replace(map_)"
   ]
  },
  {
   "cell_type": "code",
   "execution_count": 21,
   "id": "8d18ec5a-f873-4bbb-8f78-6173e194f583",
   "metadata": {},
   "outputs": [
    {
     "data": {
      "text/html": [
       "<div>\n",
       "<style scoped>\n",
       "    .dataframe tbody tr th:only-of-type {\n",
       "        vertical-align: middle;\n",
       "    }\n",
       "\n",
       "    .dataframe tbody tr th {\n",
       "        vertical-align: top;\n",
       "    }\n",
       "\n",
       "    .dataframe thead th {\n",
       "        text-align: right;\n",
       "    }\n",
       "</style>\n",
       "<table border=\"1\" class=\"dataframe\">\n",
       "  <thead>\n",
       "    <tr style=\"text-align: right;\">\n",
       "      <th></th>\n",
       "      <th>text1</th>\n",
       "      <th>text2</th>\n",
       "      <th>score</th>\n",
       "    </tr>\n",
       "  </thead>\n",
       "  <tbody>\n",
       "    <tr>\n",
       "      <th>0</th>\n",
       "      <td>Tênis Olympikus Esporte Valente - Masculino Kids</td>\n",
       "      <td>Tênis Olympikus Esporte Valente - Masculino Kids</td>\n",
       "      <td>1.000000</td>\n",
       "    </tr>\n",
       "    <tr>\n",
       "      <th>1</th>\n",
       "      <td>Tênis Olympikus Esporte Valente - Masculino Kids</td>\n",
       "      <td>Bicicleta Barra Forte Samy C/ 6 Marchas Cubo C...</td>\n",
       "      <td>0.000000</td>\n",
       "    </tr>\n",
       "    <tr>\n",
       "      <th>2</th>\n",
       "      <td>Tênis Olympikus Esporte Valente - Masculino Kids</td>\n",
       "      <td>Tênis Usthemp Slip-on Temático - Labrador 2</td>\n",
       "      <td>0.166667</td>\n",
       "    </tr>\n",
       "    <tr>\n",
       "      <th>3</th>\n",
       "      <td>Tênis Olympikus Esporte Valente - Masculino Kids</td>\n",
       "      <td>Tênis Casual Feminino Moleca Tecido Tie Dye</td>\n",
       "      <td>0.142857</td>\n",
       "    </tr>\n",
       "    <tr>\n",
       "      <th>4</th>\n",
       "      <td>Tênis Olympikus Esporte Valente - Masculino Kids</td>\n",
       "      <td>Tênis Star Baby Sapatinho Conforto + Brinde</td>\n",
       "      <td>0.166667</td>\n",
       "    </tr>\n",
       "    <tr>\n",
       "      <th>...</th>\n",
       "      <td>...</td>\n",
       "      <td>...</td>\n",
       "      <td>...</td>\n",
       "    </tr>\n",
       "    <tr>\n",
       "      <th>395</th>\n",
       "      <td>Tênis Feminino Luana Têxtil Malu Super Comfort...</td>\n",
       "      <td>Sapatênis Couro Legítimo Forrado Em Couro Sola...</td>\n",
       "      <td>0.000000</td>\n",
       "    </tr>\n",
       "    <tr>\n",
       "      <th>396</th>\n",
       "      <td>Tênis Feminino Luana Têxtil Malu Super Comfort...</td>\n",
       "      <td>Tenis Feminino Casual Chunky Vizzano Dad Sneak...</td>\n",
       "      <td>0.250000</td>\n",
       "    </tr>\n",
       "    <tr>\n",
       "      <th>397</th>\n",
       "      <td>Tênis Feminino Luana Têxtil Malu Super Comfort...</td>\n",
       "      <td>Tênis Fila D-formation - Feminino</td>\n",
       "      <td>0.500000</td>\n",
       "    </tr>\n",
       "    <tr>\n",
       "      <th>398</th>\n",
       "      <td>Tênis Feminino Luana Têxtil Malu Super Comfort...</td>\n",
       "      <td>Tênis Infantil Pé Com Pé Masculino Calce Fácil...</td>\n",
       "      <td>0.200000</td>\n",
       "    </tr>\n",
       "    <tr>\n",
       "      <th>399</th>\n",
       "      <td>Tênis Feminino Luana Têxtil Malu Super Comfort...</td>\n",
       "      <td>Tênis Feminino Luana Têxtil Malu Super Comfort...</td>\n",
       "      <td>1.000000</td>\n",
       "    </tr>\n",
       "  </tbody>\n",
       "</table>\n",
       "<p>400 rows × 3 columns</p>\n",
       "</div>"
      ],
      "text/plain": [
       "                                                 text1  \\\n",
       "0     Tênis Olympikus Esporte Valente - Masculino Kids   \n",
       "1     Tênis Olympikus Esporte Valente - Masculino Kids   \n",
       "2     Tênis Olympikus Esporte Valente - Masculino Kids   \n",
       "3     Tênis Olympikus Esporte Valente - Masculino Kids   \n",
       "4     Tênis Olympikus Esporte Valente - Masculino Kids   \n",
       "..                                                 ...   \n",
       "395  Tênis Feminino Luana Têxtil Malu Super Comfort...   \n",
       "396  Tênis Feminino Luana Têxtil Malu Super Comfort...   \n",
       "397  Tênis Feminino Luana Têxtil Malu Super Comfort...   \n",
       "398  Tênis Feminino Luana Têxtil Malu Super Comfort...   \n",
       "399  Tênis Feminino Luana Têxtil Malu Super Comfort...   \n",
       "\n",
       "                                                 text2     score  \n",
       "0     Tênis Olympikus Esporte Valente - Masculino Kids  1.000000  \n",
       "1    Bicicleta Barra Forte Samy C/ 6 Marchas Cubo C...  0.000000  \n",
       "2         Tênis Usthemp Slip-on Temático - Labrador 2  0.166667  \n",
       "3          Tênis Casual Feminino Moleca Tecido Tie Dye  0.142857  \n",
       "4          Tênis Star Baby Sapatinho Conforto + Brinde  0.166667  \n",
       "..                                                 ...       ...  \n",
       "395  Sapatênis Couro Legítimo Forrado Em Couro Sola...  0.000000  \n",
       "396  Tenis Feminino Casual Chunky Vizzano Dad Sneak...  0.250000  \n",
       "397                  Tênis Fila D-formation - Feminino  0.500000  \n",
       "398  Tênis Infantil Pé Com Pé Masculino Calce Fácil...  0.200000  \n",
       "399  Tênis Feminino Luana Têxtil Malu Super Comfort...  1.000000  \n",
       "\n",
       "[400 rows x 3 columns]"
      ]
     },
     "execution_count": 21,
     "metadata": {},
     "output_type": "execute_result"
    }
   ],
   "source": [
    "similarity_list(items_test.iloc[:20], stopwords=my_stopwords)"
   ]
  },
  {
   "cell_type": "markdown",
   "id": "90b25bb6-5c5b-44f7-b05a-02f5446b5d52",
   "metadata": {},
   "source": [
    "# Execution time"
   ]
  },
  {
   "cell_type": "code",
   "execution_count": 22,
   "id": "6ef1989f-40f4-4f26-b8d7-4dbb4cadb30d",
   "metadata": {},
   "outputs": [
    {
     "name": "stdout",
     "output_type": "stream",
     "text": [
      "50\n",
      "100\n",
      "150\n",
      "200\n"
     ]
    },
    {
     "name": "stderr",
     "output_type": "stream",
     "text": [
      "\n",
      "KeyboardInterrupt\n",
      "\n"
     ]
    }
   ],
   "source": [
    "time_elapsed = []\n",
    "for i in np.arange(50, 600, 50):\n",
    "    print(i)\n",
    "    start = time.time()\n",
    "    similarity_list(items.iloc[:i], stopwords=my_stopwords)\n",
    "    time_elapsed.append(time.time() - start)"
   ]
  },
  {
   "cell_type": "code",
   "execution_count": null,
   "id": "97881336-0694-46a5-9950-37636b4cd5a2",
   "metadata": {},
   "outputs": [],
   "source": [
    "ax = plt.figure().gca()\n",
    "pd.DataFrame({\"n_items\": np.arange(50, 600, 50),\n",
    "              \"time_elapsed\": time_elapsed})\\\n",
    "    .plot(kind=\"line\",\n",
    "          x=\"n_items\",\n",
    "          y=\"time_elapsed\",\n",
    "          ax=ax,\n",
    "          marker=\"*\",\n",
    "          title=\"Execution time vs list size\")\n",
    "ax.set_xlabel(\"Number of list items\")\n",
    "ax.set_ylabel(\"Execution time (seconds)\")"
   ]
  },
  {
   "cell_type": "code",
   "execution_count": null,
   "id": "0c897302-2f17-43ff-8966-3dc68ac703c8",
   "metadata": {},
   "outputs": [],
   "source": [
    "x = np.arange(50, 600, 50)\n",
    "y = time_elapsed\n",
    "projection_coeficients = curve_fit(lambda t,a,b: a + b*np.log(t),  x,  np.log(y))[0]"
   ]
  },
  {
   "cell_type": "code",
   "execution_count": null,
   "id": "b093469d-a699-45cc-93ba-ba877437f9ed",
   "metadata": {},
   "outputs": [],
   "source": [
    "# Fit?\n",
    "ax = plt.figure().gca()\n",
    "ax.plot(x, np.exp(projection_coeficients[0] + projection_coeficients[1]*np.log(x)),\n",
    "        label=\"projection\",\n",
    "        linestyle=\"--\")\n",
    "pd.DataFrame({\"n_items\": np.arange(50, 600, 50),\n",
    "              \"time_elapsed\": time_elapsed})\\\n",
    "    .plot(kind=\"line\",\n",
    "          x=\"n_items\",\n",
    "          y=\"time_elapsed\",\n",
    "          ax=ax,\n",
    "          label=\"data points\",\n",
    "          marker=\"*\",\n",
    "          title=\"Execution time vs list size\",\n",
    "          color=\"C1\")"
   ]
  },
  {
   "cell_type": "code",
   "execution_count": null,
   "id": "3deba0d6-c10e-48a2-96c2-6df269076ae9",
   "metadata": {},
   "outputs": [],
   "source": [
    "# Projection\n",
    "ax = plt.figure().gca()\n",
    "x_ = np.arange(50, 10000, 50)\n",
    "ax.plot(x_, np.exp(projection_coeficients[0] + projection_coeficients[1]*np.log(x_)),\n",
    "        label=\"projection\",\n",
    "        linestyle=\"--\")\n",
    "pd.DataFrame({\"n_items\": np.arange(50, 600, 50),\n",
    "              \"time_elapsed\": time_elapsed})\\\n",
    "    .plot(kind=\"line\",\n",
    "          x=\"n_items\",\n",
    "          y=\"time_elapsed\",\n",
    "          ax=ax,\n",
    "          label=\"data points\",\n",
    "          marker=\"*\",\n",
    "          title=\"Execution time vs list size\",\n",
    "          color=\"C1\")\n",
    "final_projection_hours = np.exp(projection_coeficients[0] + projection_coeficients[1]*np.log(items_test.shape[0]))/3600\n",
    "plt.annotate(text=\"%.1f hours expected\" % final_projection_hours,\n",
    "             xy=(items_test.shape[0], final_projection_hours*3600),\n",
    "             arrowprops=dict(facecolor='gray'),\n",
    "             xytext=(items_test.shape[0]*.5, final_projection_hours*3600*.9))"
   ]
  },
  {
   "cell_type": "markdown",
   "id": "7af069c5-b863-43dd-aa0a-c6d70e73b636",
   "metadata": {},
   "source": [
    "# Conclusion\n",
    "\n",
    "As the number of items increases (list size), the time required to compute similarities becomes impractical. Performing text embedding and using a vector database could be a more efficient and scalable solution."
   ]
  },
  {
   "cell_type": "code",
   "execution_count": null,
   "id": "95a4917e-adbe-49f0-bec9-ca8cbd3c7d74",
   "metadata": {},
   "outputs": [],
   "source": []
  }
 ],
 "metadata": {
  "kernelspec": {
   "display_name": "teste2",
   "language": "python",
   "name": "teste2"
  },
  "language_info": {
   "codemirror_mode": {
    "name": "ipython",
    "version": 3
   },
   "file_extension": ".py",
   "mimetype": "text/x-python",
   "name": "python",
   "nbconvert_exporter": "python",
   "pygments_lexer": "ipython3",
   "version": "3.10.12"
  }
 },
 "nbformat": 4,
 "nbformat_minor": 5
}
